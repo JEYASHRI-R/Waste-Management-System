{
 "cells": [
  {
   "cell_type": "markdown",
   "id": "31cd7882",
   "metadata": {},
   "source": [
    "Imports"
   ]
  },
  {
   "cell_type": "code",
   "execution_count": 1,
   "id": "d4976b0a",
   "metadata": {},
   "outputs": [],
   "source": [
    "import tensorflow as tf\n",
    "from tensorflow.keras.preprocessing.image import ImageDataGenerator\n",
    "from tensorflow.keras.models import Sequential\n",
    "from tensorflow.keras.layers import Convolution2D,MaxPooling2D,Flatten,Dense\n",
    "from tensorflow.keras.preprocessing import image\n",
    "import numpy as np"
   ]
  },
  {
   "cell_type": "code",
   "execution_count": 2,
   "id": "932f2a78",
   "metadata": {},
   "outputs": [],
   "source": [
    "train_data=ImageDataGenerator(rescale=1./255,zoom_range=0.2,horizontal_flip=True)\n",
    "test_data=ImageDataGenerator(rescale=1./255,validation_split=0.5)"
   ]
  },
  {
   "cell_type": "code",
   "execution_count": 3,
   "id": "2f71b46f",
   "metadata": {},
   "outputs": [
    {
     "name": "stdout",
     "output_type": "stream",
     "text": [
      "Found 89 images belonging to 5 classes.\n"
     ]
    }
   ],
   "source": [
    "xtrain=train_data.flow_from_directory('D:/Code/Notebook/Data/train',\n",
    "                                      target_size=(64,64),\n",
    "                                      class_mode='categorical',\n",
    "                                      batch_size=100)"
   ]
  },
  {
   "cell_type": "code",
   "execution_count": 4,
   "id": "3c7b452e",
   "metadata": {},
   "outputs": [
    {
     "name": "stdout",
     "output_type": "stream",
     "text": [
      "Found 21 images belonging to 5 classes.\n"
     ]
    }
   ],
   "source": [
    "xtest=test_data.flow_from_directory('D:/Code/Notebook/Data/test',\n",
    "                                         target_size=(64,64),\n",
    "                                         class_mode='categorical',\n",
    "                                         batch_size=100)"
   ]
  },
  {
   "cell_type": "code",
   "execution_count": 21,
   "id": "0619a658",
   "metadata": {},
   "outputs": [],
   "source": [
    "model=Sequential()\n",
    "model.add(Convolution2D(32,(3,3),activation='relu',input_shape=(64,64,3)))\n",
    "model.add(MaxPooling2D(pool_size=(2,2)))\n",
    "model.add(Flatten())\n",
    "model.add(Dense(300,activation='relu'))\n",
    "model.add(Dense(150,activation='relu'))\n",
    "model.add(Dense(5,activation='softmax'))"
   ]
  },
  {
   "cell_type": "code",
   "execution_count": 22,
   "id": "877d69c6",
   "metadata": {},
   "outputs": [],
   "source": [
    "model.compile(optimizer='adam',loss='categorical_crossentropy',metrics=['accuracy'])"
   ]
  },
  {
   "cell_type": "code",
   "execution_count": 23,
   "id": "a9ab46dd",
   "metadata": {},
   "outputs": [
    {
     "name": "stdout",
     "output_type": "stream",
     "text": [
      "Epoch 1/30\n",
      "1/1 [==============================] - 5s 5s/step - loss: 1.6372 - accuracy: 0.1461 - val_loss: 8.2579 - val_accuracy: 0.2381\n",
      "Epoch 2/30\n",
      "1/1 [==============================] - 1s 1s/step - loss: 7.2949 - accuracy: 0.2697 - val_loss: 8.9041 - val_accuracy: 0.2381\n",
      "Epoch 3/30\n",
      "1/1 [==============================] - 1s 1s/step - loss: 8.2067 - accuracy: 0.2135 - val_loss: 9.5571 - val_accuracy: 0.1429\n",
      "Epoch 4/30\n",
      "1/1 [==============================] - 1s 1s/step - loss: 8.8859 - accuracy: 0.1798 - val_loss: 4.5174 - val_accuracy: 0.1429\n",
      "Epoch 5/30\n",
      "1/1 [==============================] - 1s 1s/step - loss: 4.3657 - accuracy: 0.1798 - val_loss: 3.9911 - val_accuracy: 0.2381\n",
      "Epoch 6/30\n",
      "1/1 [==============================] - 2s 2s/step - loss: 3.8251 - accuracy: 0.1910 - val_loss: 3.4524 - val_accuracy: 0.2381\n",
      "Epoch 7/30\n",
      "1/1 [==============================] - 1s 1s/step - loss: 3.3159 - accuracy: 0.1798 - val_loss: 2.4757 - val_accuracy: 0.1905\n",
      "Epoch 8/30\n",
      "1/1 [==============================] - 1s 1s/step - loss: 2.4461 - accuracy: 0.1685 - val_loss: 1.8767 - val_accuracy: 0.3810\n",
      "Epoch 9/30\n",
      "1/1 [==============================] - 1s 1s/step - loss: 1.9021 - accuracy: 0.2809 - val_loss: 1.7684 - val_accuracy: 0.3810\n",
      "Epoch 10/30\n",
      "1/1 [==============================] - 1s 1s/step - loss: 1.7850 - accuracy: 0.2697 - val_loss: 1.9514 - val_accuracy: 0.2381\n",
      "Epoch 11/30\n",
      "1/1 [==============================] - 1s 1s/step - loss: 1.9103 - accuracy: 0.2135 - val_loss: 1.7675 - val_accuracy: 0.2381\n",
      "Epoch 12/30\n",
      "1/1 [==============================] - 1s 1s/step - loss: 1.7206 - accuracy: 0.2135 - val_loss: 1.6900 - val_accuracy: 0.3810\n",
      "Epoch 13/30\n",
      "1/1 [==============================] - 1s 1s/step - loss: 1.6337 - accuracy: 0.2809 - val_loss: 1.7816 - val_accuracy: 0.3333\n",
      "Epoch 14/30\n",
      "1/1 [==============================] - 1s 1s/step - loss: 1.7100 - accuracy: 0.2584 - val_loss: 1.7354 - val_accuracy: 0.3333\n",
      "Epoch 15/30\n",
      "1/1 [==============================] - 1s 1s/step - loss: 1.6570 - accuracy: 0.4494 - val_loss: 1.6044 - val_accuracy: 0.2381\n",
      "Epoch 16/30\n",
      "1/1 [==============================] - 1s 1s/step - loss: 1.5476 - accuracy: 0.2809 - val_loss: 1.4305 - val_accuracy: 0.2381\n",
      "Epoch 17/30\n",
      "1/1 [==============================] - 1s 1s/step - loss: 1.4423 - accuracy: 0.2921 - val_loss: 1.2647 - val_accuracy: 0.3810\n",
      "Epoch 18/30\n",
      "1/1 [==============================] - 1s 1s/step - loss: 1.3527 - accuracy: 0.3708 - val_loss: 1.1867 - val_accuracy: 0.5714\n",
      "Epoch 19/30\n",
      "1/1 [==============================] - 1s 1s/step - loss: 1.3466 - accuracy: 0.5506 - val_loss: 1.1652 - val_accuracy: 0.6190\n",
      "Epoch 20/30\n",
      "1/1 [==============================] - 1s 1s/step - loss: 1.3440 - accuracy: 0.4270 - val_loss: 1.1353 - val_accuracy: 0.5714\n",
      "Epoch 21/30\n",
      "1/1 [==============================] - 1s 1s/step - loss: 1.3085 - accuracy: 0.4494 - val_loss: 1.1340 - val_accuracy: 0.4286\n",
      "Epoch 22/30\n",
      "1/1 [==============================] - 1s 1s/step - loss: 1.2351 - accuracy: 0.4944 - val_loss: 1.2308 - val_accuracy: 0.3810\n",
      "Epoch 23/30\n",
      "1/1 [==============================] - 1s 1s/step - loss: 1.1858 - accuracy: 0.4831 - val_loss: 1.2414 - val_accuracy: 0.4286\n",
      "Epoch 24/30\n",
      "1/1 [==============================] - 1s 1s/step - loss: 1.1363 - accuracy: 0.5281 - val_loss: 1.1626 - val_accuracy: 0.5238\n",
      "Epoch 25/30\n",
      "1/1 [==============================] - 1s 1s/step - loss: 1.1078 - accuracy: 0.6629 - val_loss: 1.0808 - val_accuracy: 0.5714\n",
      "Epoch 26/30\n",
      "1/1 [==============================] - 1s 1s/step - loss: 1.0721 - accuracy: 0.6180 - val_loss: 1.0363 - val_accuracy: 0.5238\n",
      "Epoch 27/30\n",
      "1/1 [==============================] - 1s 1s/step - loss: 1.0168 - accuracy: 0.6180 - val_loss: 1.0220 - val_accuracy: 0.5238\n",
      "Epoch 28/30\n",
      "1/1 [==============================] - 1s 1s/step - loss: 0.9751 - accuracy: 0.6292 - val_loss: 0.9207 - val_accuracy: 0.5238\n",
      "Epoch 29/30\n",
      "1/1 [==============================] - 1s 1s/step - loss: 0.9334 - accuracy: 0.6629 - val_loss: 0.8333 - val_accuracy: 0.5714\n",
      "Epoch 30/30\n",
      "1/1 [==============================] - 1s 1s/step - loss: 0.8927 - accuracy: 0.7640 - val_loss: 0.8195 - val_accuracy: 0.7143\n"
     ]
    },
    {
     "data": {
      "text/plain": [
       "<keras.src.callbacks.History at 0x266e1ca5690>"
      ]
     },
     "execution_count": 23,
     "metadata": {},
     "output_type": "execute_result"
    }
   ],
   "source": [
    "model.fit(xtrain,steps_per_epoch=len(xtrain),\n",
    "          epochs=30,validation_data=xtest,validation_steps=len(xtest))"
   ]
  },
  {
   "cell_type": "code",
   "execution_count": 24,
   "id": "44f084d8",
   "metadata": {},
   "outputs": [
    {
     "name": "stdout",
     "output_type": "stream",
     "text": [
      "1/1 - 0s - loss: 0.8195 - accuracy: 0.7143 - 274ms/epoch - 274ms/step\n"
     ]
    }
   ],
   "source": [
    "test_loss, test_acc = model.evaluate(xtest, verbose=2)"
   ]
  },
  {
   "cell_type": "code",
   "execution_count": 25,
   "id": "c35d3970",
   "metadata": {},
   "outputs": [
    {
     "name": "stderr",
     "output_type": "stream",
     "text": [
      "D:\\Softwares\\Applications\\Anaconda\\Lib\\site-packages\\keras\\src\\engine\\training.py:3103: UserWarning: You are saving your model as an HDF5 file via `model.save()`. This file format is considered legacy. We recommend using instead the native Keras format, e.g. `model.save('my_model.keras')`.\n",
      "  saving_api.save_model(\n"
     ]
    }
   ],
   "source": [
    "model.save('segration_predict.h5')"
   ]
  },
  {
   "cell_type": "code",
   "execution_count": 2,
   "id": "c7b84deb",
   "metadata": {},
   "outputs": [],
   "source": [
    "waste_segregation_model = tf.keras.models.load_model('segration_predict.h5')"
   ]
  },
  {
   "cell_type": "code",
   "execution_count": 3,
   "id": "b2d7c131",
   "metadata": {},
   "outputs": [],
   "source": [
    "bio=[0,3]\n",
    "nonbio=[1,2,4]"
   ]
  },
  {
   "cell_type": "code",
   "execution_count": 4,
   "id": "275ddb8a",
   "metadata": {},
   "outputs": [
    {
     "name": "stdout",
     "output_type": "stream",
     "text": [
      "1/1 [==============================] - 0s 260ms/step\n"
     ]
    }
   ],
   "source": [
    "t_img=\"C:/Users/jeyashri.r/Downloads/Bio-degradable/paper_waste_jpg/paper_waste_jpg/download (2).jpg\"\n",
    "img=image.load_img(t_img,target_size=(64,64))\n",
    "x=image.img_to_array(img)\n",
    "x=np.expand_dims(x,axis=0)\n",
    "pred=np.argmax(waste_segregation_model.predict(x))"
   ]
  },
  {
   "cell_type": "code",
   "execution_count": 5,
   "id": "bbed946b",
   "metadata": {},
   "outputs": [
    {
     "name": "stdout",
     "output_type": "stream",
     "text": [
      "Non-Bio\n",
      "Metal Waste\n"
     ]
    }
   ],
   "source": [
    "if pred in bio:\n",
    "    print(\"Bio\")\n",
    "    if pred==0:\n",
    "        print(\"Food Waste\")\n",
    "    elif pred==3:\n",
    "        print(\"Paper Waste\")\n",
    "else:\n",
    "    print(\"Non-Bio\")\n",
    "    if pred==1:\n",
    "        print(\"Glass Waste\")\n",
    "    elif pred==2:\n",
    "        print(\"Metal Waste\")\n",
    "    elif pred==4:\n",
    "        print(\"Plastic Waste\")"
   ]
  },
  {
   "cell_type": "code",
   "execution_count": null,
   "id": "066e0a3b",
   "metadata": {},
   "outputs": [],
   "source": []
  }
 ],
 "metadata": {
  "kernelspec": {
   "display_name": "Python 3 (ipykernel)",
   "language": "python",
   "name": "python3"
  },
  "language_info": {
   "codemirror_mode": {
    "name": "ipython",
    "version": 3
   },
   "file_extension": ".py",
   "mimetype": "text/x-python",
   "name": "python",
   "nbconvert_exporter": "python",
   "pygments_lexer": "ipython3",
   "version": "3.9.13"
  }
 },
 "nbformat": 4,
 "nbformat_minor": 5
}
